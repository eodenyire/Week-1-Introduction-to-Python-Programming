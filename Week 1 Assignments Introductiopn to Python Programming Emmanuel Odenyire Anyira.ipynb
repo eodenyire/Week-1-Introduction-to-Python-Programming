{
  "nbformat": 4,
  "nbformat_minor": 0,
  "metadata": {
    "colab": {
      "name": "Copy of [Guiding Notebook] Introduction to Python Programming: Project",
      "provenance": [],
      "toc_visible": true
    },
    "kernelspec": {
      "name": "python3",
      "display_name": "Python 3"
    },
    "language_info": {
      "name": "python"
    }
  },
  "cells": [
    {
      "cell_type": "markdown",
      "metadata": {
        "id": "C0MVEA2p5aPF"
      },
      "source": [
        "# AfterWork Data Science: Python Basics for Data Science Project"
      ]
    },
    {
      "cell_type": "markdown",
      "metadata": {
        "id": "iMj2wcK7RguK"
      },
      "source": [
        "## Problem Statement"
      ]
    },
    {
      "cell_type": "markdown",
      "metadata": {
        "id": "jhuHe8gDRii4"
      },
      "source": [
        "Create a program that performs some computation using the python programming language.\n",
        "Tigo Telcom provides a mobile subscription plan with 200 minutes of airtime and 200 text messages for $10 a month. Each additional minute of air time costs $.03, and other text messages cost $.001 each. The customer's bill is also subject to 14% VAT Tax. Write a python program that will read the no. of minutes and text messages used in a month, then displays the base charge, additional minutes (if any), other text messages (if any), the tax charged, and the total bill.\n",
        "A few things to note:\n",
        "* Your input should be in the form of a dictionary.\n",
        "* Your output should be more like an SMS message.\n",
        "* Display the charges in 2 decimal places.\n"
      ]
    },
    {
      "cell_type": "markdown",
      "metadata": {
        "id": "Rw1bfo1LdiBa"
      },
      "source": [
        "## Solution"
      ]
    },
    {
      "cell_type": "code",
      "source": [
        "#!/usr/bin/env python3\n",
        "# Defining our dictionary\n",
        "# ---\n",
        "# We will create a dictionary of input data with the following keys: \n",
        "# minutes_used, minutes_included, texts_used, texts_included, \n",
        "# monthly_plan, costperminute, cost_per_sms, vat_tax.\n",
        "# ---\n",
        "\n",
        "mobile_sub = {'minutes_used': 200, 'minutes_included':200, 'texts_used':300, 'texts_included':200, 'cost_per_minute_airtime':0.03, 'total_cost':10, 'cost_per_sms':0.001, 'vat_tax':0.14}\n",
        "\n",
        "def evaluateCharges(input_data):\n",
        "    minutes_used = input_data['minutes_used']\n",
        "    texts_used = input_data['texts_used']\n",
        "    minutes_included = input_data['minutes_included']\n",
        "    texts_included = input_data['texts_included']\n",
        "\n",
        "    basecharge = 10\n",
        "\n",
        "    if minutes_used > 200:\n",
        "        additional_minutes = minutes_used - minutes_included\n",
        "        basecharge = basecharge + (additional_minutes * 0.03)\n",
        "\n",
        "    if texts_used > 200:\n",
        "        additional_texts = texts_used - texts_included\n",
        "        basecharge = basecharge + (additional_texts * 0.001)\n",
        "\n",
        "    VAT_TAX = basecharge * 0.14\n",
        "    basecharge += VAT_TAX\n",
        "\n",
        "    final_charges = round(basecharge, 2)\n",
        "    output_string = \"Your final charges are {}\".format(final_charges)\n",
        "    return print(output_string)\n",
        "\n",
        "if __name__ == '__main__':\n",
        "    evaluateCharges(mobile_sub)"
      ],
      "metadata": {
        "colab": {
          "base_uri": "https://localhost:8080/"
        },
        "id": "SmzDk96_ZP0V",
        "outputId": "0750c534-5c33-44ac-ec41-905f4c6fce94"
      },
      "execution_count": 20,
      "outputs": [
        {
          "output_type": "stream",
          "name": "stdout",
          "text": [
            "Your final charges are 11.51\n"
          ]
        }
      ]
    }
  ]
}